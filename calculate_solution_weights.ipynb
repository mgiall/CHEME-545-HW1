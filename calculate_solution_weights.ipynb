# 1/15/25 Mia Giallorenzi

# Function to calculate the molecular weights for the required solutions
def calculate_solution_weights(molecular_weights, solutions_needed):
    newlist = [] # create an empty list to output
    for i in solutions_needed: # iterate through solutions_needed
        chemFormula = i.split('-')[0] # find the chemical formula, assuming that the entries in solutions needed are always chemicalFormula-concentration
        concentration = i.split('-')[1] # find the concentration
        concentration_num = float(concentration.split('M')[0]) # convert the concentration into a float
        # print(chemFormula) # check that it's finding the right thing
        # print(concentration_num)
        
        try: # if the chemical exists in molecular_weights
            molec_weight = float(molecular_weights[chemFormula]) # get the molecular weight (as a float)
            weight = molec_weight * concentration_num # calculate the weight needed
            entry = chemFormula + '-'+ concentration + '-' + str(round(weight, 2)) + 'g' # construct the new entry
            newlist.append(entry) # append the new entry into the list
        except KeyError: # if the chemical does not exist in molecular_weights
            newlist.append('unknown') # append 'unknown' as the new entry
            
    return newlist # a modified list with'chemical_formula-concentration-weight'

