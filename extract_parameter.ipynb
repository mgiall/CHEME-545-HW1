# 1/15/25 Mia Giallorenzi

# Define extract_parameter function (using unit_operations_data dictionary)
def extract_parameter(unit_name, parameter_name, index):
    try:
    # Code that might raise an exception
        unit_dict = unit_operations_data[unit_name] # accessing the dictionary within the dictionary
        param_dict = unit_dict[parameter_name]
        val = param_dict[index]
        output = unit_name + "_" + parameter_name + "_" + str(val)
    except IndexError:
    # index is out of range
        output = "Invalid input"
    except KeyError:
    # unit_name or parameter_name not found
        output = "Invalid input"
    return output
